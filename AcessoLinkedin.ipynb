{
 "cells": [
  {
   "cell_type": "code",
   "execution_count": 1,
   "id": "0f3d8ee9-831f-4fd5-a900-a6d9aece17cf",
   "metadata": {},
   "outputs": [],
   "source": [
    "from selenium import webdriver\n",
    "from time import sleep\n",
    "from selenium.webdriver.common.keys import Keys\n",
    "from urllib.request import urlopen, Request\n",
    "import pandas as pd\n",
    "import numpy as np\n",
    "from urllib.error import URLError, HTTPError\n",
    "import mechanize\n",
    "from bs4 import BeautifulSoup"
   ]
  },
  {
   "cell_type": "code",
   "execution_count": 2,
   "id": "c436f0ee-a4fc-4c01-9334-261abb08c5af",
   "metadata": {},
   "outputs": [
    {
     "data": {
      "text/html": [
       "<div>\n",
       "<style scoped>\n",
       "    .dataframe tbody tr th:only-of-type {\n",
       "        vertical-align: middle;\n",
       "    }\n",
       "\n",
       "    .dataframe tbody tr th {\n",
       "        vertical-align: top;\n",
       "    }\n",
       "\n",
       "    .dataframe thead th {\n",
       "        text-align: right;\n",
       "    }\n",
       "</style>\n",
       "<table border=\"1\" class=\"dataframe\">\n",
       "  <thead>\n",
       "    <tr style=\"text-align: right;\">\n",
       "      <th></th>\n",
       "      <th>nome_origem</th>\n",
       "      <th>nome_linkedin</th>\n",
       "      <th>link_perfil</th>\n",
       "    </tr>\n",
       "  </thead>\n",
       "  <tbody>\n",
       "    <tr>\n",
       "      <th>0</th>\n",
       "      <td>leonel fernandes balbino</td>\n",
       "      <td>NaN</td>\n",
       "      <td>https://www.linkedin.com/in/leonel-fernandes-b...</td>\n",
       "    </tr>\n",
       "    <tr>\n",
       "      <th>1</th>\n",
       "      <td>leonel fernandes balbino</td>\n",
       "      <td>Leonel Fernandes Balbino</td>\n",
       "      <td>https://www.linkedin.com/in/leonel-fernandes-b...</td>\n",
       "    </tr>\n",
       "    <tr>\n",
       "      <th>2</th>\n",
       "      <td>rogerio mainardes</td>\n",
       "      <td>NaN</td>\n",
       "      <td>https://www.linkedin.com/in/rog%C3%A9rio-maina...</td>\n",
       "    </tr>\n",
       "  </tbody>\n",
       "</table>\n",
       "</div>"
      ],
      "text/plain": [
       "                nome_origem             nome_linkedin  \\\n",
       "0  leonel fernandes balbino                       NaN   \n",
       "1  leonel fernandes balbino  Leonel Fernandes Balbino   \n",
       "2         rogerio mainardes                       NaN   \n",
       "\n",
       "                                         link_perfil  \n",
       "0  https://www.linkedin.com/in/leonel-fernandes-b...  \n",
       "1  https://www.linkedin.com/in/leonel-fernandes-b...  \n",
       "2  https://www.linkedin.com/in/rog%C3%A9rio-maina...  "
      ]
     },
     "execution_count": 2,
     "metadata": {},
     "output_type": "execute_result"
    }
   ],
   "source": [
    "df = pd.read_csv('perfis.csv')\n",
    "df.head(3)"
   ]
  },
  {
   "cell_type": "code",
   "execution_count": 23,
   "id": "b8b0594e-229b-49ed-b3e8-8f41dbe7868a",
   "metadata": {},
   "outputs": [],
   "source": [
    "browser= webdriver.Chrome()\n",
    "browser.get('http://www.linkedin.com')\n",
    "file =  open('file.txt')\n",
    "lines = file.readlines()\n",
    "username = lines[0]\n",
    "password = lines[1]\n",
    "\n",
    "elem = browser.find_element_by_id(\"session_key\")\n",
    "elem.send_keys(username)\n",
    "\n",
    "elem = browser.find_element_by_id(\"session_password\")\n",
    "elem.send_keys(password)\n",
    "\n",
    "elem.submit()\n",
    "\n",
    "# url =  'https://www.linkedin.com/in/bira-morgado-91009513/?miniProfileUrn=urn%3Ali%3Afs_miniProfile%3AACoAAAKub9wB1KqqzQVqw5pP2YxgyMAVR9BSmD4'\n",
    "url = df.link_perfil[0]\n",
    "headers =  {\"user-agent\": \"Mozilla/5.0 (Windows NT 10.0; Win64; x64) AppleWebKit/537.36 (KHTML, like Gecko) Chrome/91.0.4472.77 Safari/537.36\"}\n",
    "\n",
    "browser.get(url)\n",
    "\n",
    "# sleep(10)\n",
    "# browser.quit()"
   ]
  },
  {
   "cell_type": "code",
   "execution_count": 24,
   "id": "e59aa7cd-65ad-4d06-9131-e903d4a3798d",
   "metadata": {},
   "outputs": [],
   "source": [
    "SCROLL_PAUSE_TIME = 3\n",
    "\n",
    "# Pegando a altura do scroll\n",
    "last_height = browser.execute_script('return document.body.scrollHeight')\n",
    "\n",
    "for i in range(3):\n",
    "\n",
    "    # faz scroll até metade\n",
    "    browser.execute_script('window.scrollTo(0, document.body.scrollHeight/2);')\n",
    "    \n",
    "    # espera carregar a página\n",
    "    sleep(SCROLL_PAUSE_TIME) \n",
    "    \n",
    "    # fazer scroll até o final\n",
    "    browser.execute_script('window.scrollTo(0, document.body.scrollHeight);')\n",
    "    \n",
    "    # Esperando para carregar a página\n",
    "    sleep(SCROLL_PAUSE_TIME)\n",
    "    \n",
    "    # calcularnova altura de scroll e compara com a altura medida anteriormente\n",
    "    new_height = browser.execute_script('return document.body.scrollHeight;')\n",
    "    if new_height == last_height:\n",
    "        break\n",
    "    last_height = new_height"
   ]
  },
  {
   "cell_type": "code",
   "execution_count": 25,
   "id": "04036a66-304c-45a0-88f1-04e7360f9f65",
   "metadata": {},
   "outputs": [],
   "source": [
    "# browser.quit()"
   ]
  },
  {
   "cell_type": "code",
   "execution_count": 26,
   "id": "0386f44c-e9b1-4612-a078-9853535aeca9",
   "metadata": {},
   "outputs": [],
   "source": [
    "src = browser.page_source\n",
    "soup = BeautifulSoup(src)"
   ]
  },
  {
   "cell_type": "code",
   "execution_count": 27,
   "id": "bfe3c0ac-a5e2-427c-9e51-2587a250df1b",
   "metadata": {},
   "outputs": [
    {
     "data": {
      "text/plain": [
       "'Leonel Fernandes Balbino'"
      ]
     },
     "execution_count": 27,
     "metadata": {},
     "output_type": "execute_result"
    }
   ],
   "source": [
    "nome = soup.find('h1', {'class': \"text-heading-xlarge inline t-24 v-align-middle break-words\"}).get_text()\n",
    "nome"
   ]
  },
  {
   "cell_type": "code",
   "execution_count": 28,
   "id": "6b13e1d2-6e70-4082-a771-d7ef3587aa9c",
   "metadata": {},
   "outputs": [
    {
     "data": {
      "text/plain": [
       "'Software Engineering Intern at toorin | Artificial Intelligence Undergraduate Researcher at Grupo CiDAMO'"
      ]
     },
     "execution_count": 28,
     "metadata": {},
     "output_type": "execute_result"
    }
   ],
   "source": [
    "descricao = soup.find('div', {'class':\"text-body-medium break-words\"}).get_text().strip()\n",
    "descricao"
   ]
  },
  {
   "cell_type": "code",
   "execution_count": 29,
   "id": "a7a93e9a-5b81-43cf-ab10-1d3ccbdb7207",
   "metadata": {},
   "outputs": [
    {
     "data": {
      "text/plain": [
       "'Curitiba, Paraná, Brasil'"
      ]
     },
     "execution_count": 29,
     "metadata": {},
     "output_type": "execute_result"
    }
   ],
   "source": [
    "localidade = soup.find('span', {'class':\"text-body-small inline t-black--light break-words\"}).get_text().strip()\n",
    "localidade"
   ]
  },
  {
   "cell_type": "code",
   "execution_count": 30,
   "id": "794df5f8-c938-42dd-81dd-7c0e3e812346",
   "metadata": {},
   "outputs": [
    {
     "data": {
      "text/plain": [
       "'225 conexões'"
      ]
     },
     "execution_count": 30,
     "metadata": {},
     "output_type": "execute_result"
    }
   ],
   "source": [
    "conexoes = soup.find('span', {'class':'t-bold'}).get_text()\n",
    "conexoes"
   ]
  },
  {
   "cell_type": "code",
   "execution_count": 31,
   "id": "c110547d-f1de-4258-b038-7ce155aa7bef",
   "metadata": {},
   "outputs": [
    {
     "data": {
      "text/plain": [
       "'Estudante de Engenharia Mecânica com interesse especial por processos, dados e qualidade. Recentemente integrante da equipe premiada no desafio de inovação do programa de estágio Job Rotation da Renault. Outras experiências compreendem iniciação científica, monitoria, participação em empresa júnior e onze anos como professor particular de Informática, Física, Matemática e Cálculo.'"
      ]
     },
     "execution_count": 31,
     "metadata": {},
     "output_type": "execute_result"
    }
   ],
   "source": [
    "sobre = soup.find('div', {'class':\"inline-show-more-text inline-show-more-text--is-collapsed mt4 t-14\"}).get_text().replace('visualizar mais','').replace('…','').strip()\n",
    "sobre"
   ]
  },
  {
   "cell_type": "code",
   "execution_count": 32,
   "id": "d60e4432-6b1a-49e9-b582-da33e480030a",
   "metadata": {},
   "outputs": [
    {
     "data": {
      "text/plain": [
       "'Estagiário de Engenharia de Software'"
      ]
     },
     "execution_count": 32,
     "metadata": {},
     "output_type": "execute_result"
    }
   ],
   "source": [
    "cargoEmpresa = soup.find('ul',{\"class\":\"pv-profile-section__section-info section-info pv-profile-section__section-info--has-more\"}).li.h3.get_text()\n",
    "cargoEmpresa"
   ]
  },
  {
   "cell_type": "code",
   "execution_count": 33,
   "id": "49ebe4c7-f695-44e2-9ef7-b7badab2b856",
   "metadata": {},
   "outputs": [
    {
     "data": {
      "text/plain": [
       "'Estagiário de Engenharia de Software'"
      ]
     },
     "execution_count": 33,
     "metadata": {},
     "output_type": "execute_result"
    }
   ],
   "source": [
    "cargoEmpresa = soup.find('section',{\"id\":\"experience-section\"}).h3.findPrevious('div').h3.get_text()\n",
    "cargoEmpresa"
   ]
  },
  {
   "cell_type": "code",
   "execution_count": 34,
   "id": "79dc89e5-66ac-41c1-aab9-42c4bbbe40e6",
   "metadata": {},
   "outputs": [
    {
     "data": {
      "text/plain": [
       "'mai. de 2021 – o momento'"
      ]
     },
     "execution_count": 34,
     "metadata": {},
     "output_type": "execute_result"
    }
   ],
   "source": [
    "periodoEmpresa = soup.find('ul',{\"class\":\"pv-profile-section__section-info section-info pv-profile-section__section-info--has-more\"}).h4.findNext().findNext().get_text()\n",
    "periodoEmpresa"
   ]
  },
  {
   "cell_type": "code",
   "execution_count": 35,
   "id": "1978d347-87f7-492d-b6eb-6fdf5030fe5a",
   "metadata": {},
   "outputs": [
    {
     "data": {
      "text/plain": [
       "'toorin        Estágio'"
      ]
     },
     "execution_count": 35,
     "metadata": {},
     "output_type": "execute_result"
    }
   ],
   "source": [
    "funcaoEmpresa = soup.find('ul',{\"class\":\"pv-profile-section__section-info section-info pv-profile-section__section-info--has-more\"}).h3.findNext().findNext().get_text().strip().replace('\\n', '')\n",
    "funcaoEmpresa"
   ]
  },
  {
   "cell_type": "code",
   "execution_count": 36,
   "id": "cb06c91c-2fe0-4fd2-919f-308b3a7061e5",
   "metadata": {},
   "outputs": [
    {
     "data": {
      "text/plain": [
       "'Atuação em desenvolvimento backend usando Django Rest Framework com foco em qualidade de código e produtização.'"
      ]
     },
     "execution_count": 36,
     "metadata": {},
     "output_type": "execute_result"
    }
   ],
   "source": [
    "descricaoEmpresa = soup.find('ul',{\"class\":\"pv-profile-section__section-info section-info pv-profile-section__section-info--has-more\"}).find('div', {\"class\" :\"pv-entity__extra-details\"}).get_text().strip()\n",
    "descricaoEmpresa"
   ]
  },
  {
   "cell_type": "code",
   "execution_count": null,
   "id": "a4f77012-6d43-4a02-b510-f8cfef925ae5",
   "metadata": {},
   "outputs": [],
   "source": [
    "browser.quit()"
   ]
  },
  {
   "cell_type": "code",
   "execution_count": null,
   "id": "98cce5eb-7849-4c39-a4d8-8465295201cb",
   "metadata": {},
   "outputs": [],
   "source": [
    "url = df.link_perfil[6]\n",
    "url"
   ]
  },
  {
   "cell_type": "code",
   "execution_count": 18,
   "id": "3df1bd64-25b9-4075-9804-a4fa1d5a72be",
   "metadata": {},
   "outputs": [
    {
     "data": {
      "text/plain": [
       "'Colégio Ágape'"
      ]
     },
     "execution_count": 18,
     "metadata": {},
     "output_type": "execute_result"
    }
   ],
   "source": [
    "soup.find('section',{\"id\":\"experience-section\"}).h3.findNext().findNext().get_text().strip()"
   ]
  },
  {
   "cell_type": "code",
   "execution_count": 64,
   "id": "ae90b733-2cfa-4adc-9672-4bf43ace9d19",
   "metadata": {},
   "outputs": [],
   "source": [
    "def salva_dados(link, tempoDeScroll, loginTxt):\n",
    "    perfil = {}\n",
    "    \n",
    "    browser= webdriver.Chrome()\n",
    "    browser.get('http://www.linkedin.com')\n",
    "    loginTxt =  open('file.txt')\n",
    "    lines = loginTxt.readlines()\n",
    "    username = lines[0]\n",
    "    password = lines[1]\n",
    "\n",
    "    elem = browser.find_element_by_id(\"session_key\")\n",
    "    elem.send_keys(username)\n",
    "\n",
    "    elem = browser.find_element_by_id(\"session_password\")\n",
    "    elem.send_keys(password)\n",
    "\n",
    "    elem.submit()\n",
    "\n",
    "    url = link\n",
    "\n",
    "    browser.get(url)\n",
    "    \n",
    "    SCROLL_PAUSE_TIME = tempoDeScroll\n",
    "\n",
    "    # Pegando a altura do scroll\n",
    "    last_height = browser.execute_script('return document.body.scrollHeight')\n",
    "\n",
    "    for i in range(3):\n",
    "\n",
    "        # faz scroll até metade\n",
    "        browser.execute_script('window.scrollTo(0, document.body.scrollHeight/2);')\n",
    "\n",
    "        # espera carregar a página\n",
    "        sleep(SCROLL_PAUSE_TIME) \n",
    "\n",
    "        # fazer scroll até o final\n",
    "        browser.execute_script('window.scrollTo(0, document.body.scrollHeight);')\n",
    "\n",
    "        # Esperando para carregar a página\n",
    "        sleep(SCROLL_PAUSE_TIME)\n",
    "\n",
    "        # calcularnova altura de scroll e compara com a altura medida anteriormente\n",
    "        new_height = browser.execute_script('return document.body.scrollHeight;')\n",
    "        if new_height == last_height:\n",
    "            break\n",
    "        last_height = new_height\n",
    "    \n",
    "    src = browser.page_source\n",
    "    soup = BeautifulSoup(src)\n",
    "    \n",
    "    perfil['nome'] = list(soup.find('h1', {'class': \"text-heading-xlarge inline t-24 v-align-middle break-words\"}).get_text())\n",
    "    perfil['descricao'] = list(soup.find('div', {'class':\"text-body-medium break-words\"}).get_text().strip())\n",
    "    perfil['localidade'] = list(soup.find('span', {'class':\"text-body-small inline t-black--light break-words\"}).get_text().strip())\n",
    "    perfil['conexoes'] = list(soup.find('span', {'class':'t-bold'}).get_text())\n",
    "    perfil['sobre'] = list(soup.find('div', {'class':\"inline-show-more-text inline-show-more-text--is-collapsed mt4 t-14\"}).get_text().replace('visualizar mais','').replace('…','').strip())\n",
    "    perfil['empresa'] = list(soup.find('section',{\"id\":\"experience-section\"}).h3.findNext().findNext().get_text().strip())\n",
    "    perfil['cargoEmpresa'] = list(soup.find('section',{\"id\":\"experience-section\"}).h3.get_text())\n",
    "    df = pd.DataFrame(perfil)\n",
    "    \n",
    "    return df\n",
    "    "
   ]
  },
  {
   "cell_type": "code",
   "execution_count": 65,
   "id": "7b325a30-677e-43d6-9648-b86e95f40b00",
   "metadata": {},
   "outputs": [
    {
     "ename": "ValueError",
     "evalue": "arrays must all be same length",
     "output_type": "error",
     "traceback": [
      "\u001b[1;31m---------------------------------------------------------------------------\u001b[0m",
      "\u001b[1;31mValueError\u001b[0m                                Traceback (most recent call last)",
      "\u001b[1;32m<ipython-input-65-3d2bb2b5c86d>\u001b[0m in \u001b[0;36m<module>\u001b[1;34m\u001b[0m\n\u001b[1;32m----> 1\u001b[1;33m \u001b[0mdata\u001b[0m \u001b[1;33m=\u001b[0m \u001b[0msalva_dados\u001b[0m\u001b[1;33m(\u001b[0m\u001b[0mdf\u001b[0m\u001b[1;33m.\u001b[0m\u001b[0mlink_perfil\u001b[0m\u001b[1;33m[\u001b[0m\u001b[1;36m0\u001b[0m\u001b[1;33m]\u001b[0m\u001b[1;33m,\u001b[0m \u001b[1;36m3\u001b[0m\u001b[1;33m,\u001b[0m \u001b[0mfile\u001b[0m\u001b[1;33m)\u001b[0m\u001b[1;33m\u001b[0m\u001b[1;33m\u001b[0m\u001b[0m\n\u001b[0m",
      "\u001b[1;32m<ipython-input-64-fedf8c1347a6>\u001b[0m in \u001b[0;36msalva_dados\u001b[1;34m(link, tempoDeScroll, loginTxt)\u001b[0m\n\u001b[0;32m     56\u001b[0m     \u001b[0mperfil\u001b[0m\u001b[1;33m[\u001b[0m\u001b[1;34m'empresa'\u001b[0m\u001b[1;33m]\u001b[0m \u001b[1;33m=\u001b[0m \u001b[0mlist\u001b[0m\u001b[1;33m(\u001b[0m\u001b[0msoup\u001b[0m\u001b[1;33m.\u001b[0m\u001b[0mfind\u001b[0m\u001b[1;33m(\u001b[0m\u001b[1;34m'section'\u001b[0m\u001b[1;33m,\u001b[0m\u001b[1;33m{\u001b[0m\u001b[1;34m\"id\"\u001b[0m\u001b[1;33m:\u001b[0m\u001b[1;34m\"experience-section\"\u001b[0m\u001b[1;33m}\u001b[0m\u001b[1;33m)\u001b[0m\u001b[1;33m.\u001b[0m\u001b[0mh3\u001b[0m\u001b[1;33m.\u001b[0m\u001b[0mfindNext\u001b[0m\u001b[1;33m(\u001b[0m\u001b[1;33m)\u001b[0m\u001b[1;33m.\u001b[0m\u001b[0mfindNext\u001b[0m\u001b[1;33m(\u001b[0m\u001b[1;33m)\u001b[0m\u001b[1;33m.\u001b[0m\u001b[0mget_text\u001b[0m\u001b[1;33m(\u001b[0m\u001b[1;33m)\u001b[0m\u001b[1;33m.\u001b[0m\u001b[0mstrip\u001b[0m\u001b[1;33m(\u001b[0m\u001b[1;33m)\u001b[0m\u001b[1;33m)\u001b[0m\u001b[1;33m\u001b[0m\u001b[1;33m\u001b[0m\u001b[0m\n\u001b[0;32m     57\u001b[0m     \u001b[0mperfil\u001b[0m\u001b[1;33m[\u001b[0m\u001b[1;34m'cargoEmpresa'\u001b[0m\u001b[1;33m]\u001b[0m \u001b[1;33m=\u001b[0m \u001b[0mlist\u001b[0m\u001b[1;33m(\u001b[0m\u001b[0msoup\u001b[0m\u001b[1;33m.\u001b[0m\u001b[0mfind\u001b[0m\u001b[1;33m(\u001b[0m\u001b[1;34m'section'\u001b[0m\u001b[1;33m,\u001b[0m\u001b[1;33m{\u001b[0m\u001b[1;34m\"id\"\u001b[0m\u001b[1;33m:\u001b[0m\u001b[1;34m\"experience-section\"\u001b[0m\u001b[1;33m}\u001b[0m\u001b[1;33m)\u001b[0m\u001b[1;33m.\u001b[0m\u001b[0mh3\u001b[0m\u001b[1;33m.\u001b[0m\u001b[0mget_text\u001b[0m\u001b[1;33m(\u001b[0m\u001b[1;33m)\u001b[0m\u001b[1;33m)\u001b[0m\u001b[1;33m\u001b[0m\u001b[1;33m\u001b[0m\u001b[0m\n\u001b[1;32m---> 58\u001b[1;33m     \u001b[0mdf\u001b[0m \u001b[1;33m=\u001b[0m \u001b[0mpd\u001b[0m\u001b[1;33m.\u001b[0m\u001b[0mDataFrame\u001b[0m\u001b[1;33m(\u001b[0m\u001b[0mperfil\u001b[0m\u001b[1;33m)\u001b[0m\u001b[1;33m\u001b[0m\u001b[1;33m\u001b[0m\u001b[0m\n\u001b[0m\u001b[0;32m     59\u001b[0m \u001b[1;33m\u001b[0m\u001b[0m\n\u001b[0;32m     60\u001b[0m     \u001b[1;32mreturn\u001b[0m \u001b[0mdf\u001b[0m\u001b[1;33m\u001b[0m\u001b[1;33m\u001b[0m\u001b[0m\n",
      "\u001b[1;32m~\\anaconda3\\envs\\tensor\\lib\\site-packages\\pandas\\core\\frame.py\u001b[0m in \u001b[0;36m__init__\u001b[1;34m(self, data, index, columns, dtype, copy)\u001b[0m\n\u001b[0;32m    527\u001b[0m \u001b[1;33m\u001b[0m\u001b[0m\n\u001b[0;32m    528\u001b[0m         \u001b[1;32melif\u001b[0m \u001b[0misinstance\u001b[0m\u001b[1;33m(\u001b[0m\u001b[0mdata\u001b[0m\u001b[1;33m,\u001b[0m \u001b[0mdict\u001b[0m\u001b[1;33m)\u001b[0m\u001b[1;33m:\u001b[0m\u001b[1;33m\u001b[0m\u001b[1;33m\u001b[0m\u001b[0m\n\u001b[1;32m--> 529\u001b[1;33m             \u001b[0mmgr\u001b[0m \u001b[1;33m=\u001b[0m \u001b[0minit_dict\u001b[0m\u001b[1;33m(\u001b[0m\u001b[0mdata\u001b[0m\u001b[1;33m,\u001b[0m \u001b[0mindex\u001b[0m\u001b[1;33m,\u001b[0m \u001b[0mcolumns\u001b[0m\u001b[1;33m,\u001b[0m \u001b[0mdtype\u001b[0m\u001b[1;33m=\u001b[0m\u001b[0mdtype\u001b[0m\u001b[1;33m)\u001b[0m\u001b[1;33m\u001b[0m\u001b[1;33m\u001b[0m\u001b[0m\n\u001b[0m\u001b[0;32m    530\u001b[0m         \u001b[1;32melif\u001b[0m \u001b[0misinstance\u001b[0m\u001b[1;33m(\u001b[0m\u001b[0mdata\u001b[0m\u001b[1;33m,\u001b[0m \u001b[0mma\u001b[0m\u001b[1;33m.\u001b[0m\u001b[0mMaskedArray\u001b[0m\u001b[1;33m)\u001b[0m\u001b[1;33m:\u001b[0m\u001b[1;33m\u001b[0m\u001b[1;33m\u001b[0m\u001b[0m\n\u001b[0;32m    531\u001b[0m             \u001b[1;32mimport\u001b[0m \u001b[0mnumpy\u001b[0m\u001b[1;33m.\u001b[0m\u001b[0mma\u001b[0m\u001b[1;33m.\u001b[0m\u001b[0mmrecords\u001b[0m \u001b[1;32mas\u001b[0m \u001b[0mmrecords\u001b[0m\u001b[1;33m\u001b[0m\u001b[1;33m\u001b[0m\u001b[0m\n",
      "\u001b[1;32m~\\anaconda3\\envs\\tensor\\lib\\site-packages\\pandas\\core\\internals\\construction.py\u001b[0m in \u001b[0;36minit_dict\u001b[1;34m(data, index, columns, dtype)\u001b[0m\n\u001b[0;32m    285\u001b[0m             \u001b[0marr\u001b[0m \u001b[1;32mif\u001b[0m \u001b[1;32mnot\u001b[0m \u001b[0mis_datetime64tz_dtype\u001b[0m\u001b[1;33m(\u001b[0m\u001b[0marr\u001b[0m\u001b[1;33m)\u001b[0m \u001b[1;32melse\u001b[0m \u001b[0marr\u001b[0m\u001b[1;33m.\u001b[0m\u001b[0mcopy\u001b[0m\u001b[1;33m(\u001b[0m\u001b[1;33m)\u001b[0m \u001b[1;32mfor\u001b[0m \u001b[0marr\u001b[0m \u001b[1;32min\u001b[0m \u001b[0marrays\u001b[0m\u001b[1;33m\u001b[0m\u001b[1;33m\u001b[0m\u001b[0m\n\u001b[0;32m    286\u001b[0m         ]\n\u001b[1;32m--> 287\u001b[1;33m     \u001b[1;32mreturn\u001b[0m \u001b[0marrays_to_mgr\u001b[0m\u001b[1;33m(\u001b[0m\u001b[0marrays\u001b[0m\u001b[1;33m,\u001b[0m \u001b[0mdata_names\u001b[0m\u001b[1;33m,\u001b[0m \u001b[0mindex\u001b[0m\u001b[1;33m,\u001b[0m \u001b[0mcolumns\u001b[0m\u001b[1;33m,\u001b[0m \u001b[0mdtype\u001b[0m\u001b[1;33m=\u001b[0m\u001b[0mdtype\u001b[0m\u001b[1;33m)\u001b[0m\u001b[1;33m\u001b[0m\u001b[1;33m\u001b[0m\u001b[0m\n\u001b[0m\u001b[0;32m    288\u001b[0m \u001b[1;33m\u001b[0m\u001b[0m\n\u001b[0;32m    289\u001b[0m \u001b[1;33m\u001b[0m\u001b[0m\n",
      "\u001b[1;32m~\\anaconda3\\envs\\tensor\\lib\\site-packages\\pandas\\core\\internals\\construction.py\u001b[0m in \u001b[0;36marrays_to_mgr\u001b[1;34m(arrays, arr_names, index, columns, dtype, verify_integrity)\u001b[0m\n\u001b[0;32m     78\u001b[0m         \u001b[1;31m# figure out the index, if necessary\u001b[0m\u001b[1;33m\u001b[0m\u001b[1;33m\u001b[0m\u001b[1;33m\u001b[0m\u001b[0m\n\u001b[0;32m     79\u001b[0m         \u001b[1;32mif\u001b[0m \u001b[0mindex\u001b[0m \u001b[1;32mis\u001b[0m \u001b[1;32mNone\u001b[0m\u001b[1;33m:\u001b[0m\u001b[1;33m\u001b[0m\u001b[1;33m\u001b[0m\u001b[0m\n\u001b[1;32m---> 80\u001b[1;33m             \u001b[0mindex\u001b[0m \u001b[1;33m=\u001b[0m \u001b[0mextract_index\u001b[0m\u001b[1;33m(\u001b[0m\u001b[0marrays\u001b[0m\u001b[1;33m)\u001b[0m\u001b[1;33m\u001b[0m\u001b[1;33m\u001b[0m\u001b[0m\n\u001b[0m\u001b[0;32m     81\u001b[0m         \u001b[1;32melse\u001b[0m\u001b[1;33m:\u001b[0m\u001b[1;33m\u001b[0m\u001b[1;33m\u001b[0m\u001b[0m\n\u001b[0;32m     82\u001b[0m             \u001b[0mindex\u001b[0m \u001b[1;33m=\u001b[0m \u001b[0mensure_index\u001b[0m\u001b[1;33m(\u001b[0m\u001b[0mindex\u001b[0m\u001b[1;33m)\u001b[0m\u001b[1;33m\u001b[0m\u001b[1;33m\u001b[0m\u001b[0m\n",
      "\u001b[1;32m~\\anaconda3\\envs\\tensor\\lib\\site-packages\\pandas\\core\\internals\\construction.py\u001b[0m in \u001b[0;36mextract_index\u001b[1;34m(data)\u001b[0m\n\u001b[0;32m    399\u001b[0m             \u001b[0mlengths\u001b[0m \u001b[1;33m=\u001b[0m \u001b[0mlist\u001b[0m\u001b[1;33m(\u001b[0m\u001b[0mset\u001b[0m\u001b[1;33m(\u001b[0m\u001b[0mraw_lengths\u001b[0m\u001b[1;33m)\u001b[0m\u001b[1;33m)\u001b[0m\u001b[1;33m\u001b[0m\u001b[1;33m\u001b[0m\u001b[0m\n\u001b[0;32m    400\u001b[0m             \u001b[1;32mif\u001b[0m \u001b[0mlen\u001b[0m\u001b[1;33m(\u001b[0m\u001b[0mlengths\u001b[0m\u001b[1;33m)\u001b[0m \u001b[1;33m>\u001b[0m \u001b[1;36m1\u001b[0m\u001b[1;33m:\u001b[0m\u001b[1;33m\u001b[0m\u001b[1;33m\u001b[0m\u001b[0m\n\u001b[1;32m--> 401\u001b[1;33m                 \u001b[1;32mraise\u001b[0m \u001b[0mValueError\u001b[0m\u001b[1;33m(\u001b[0m\u001b[1;34m\"arrays must all be same length\"\u001b[0m\u001b[1;33m)\u001b[0m\u001b[1;33m\u001b[0m\u001b[1;33m\u001b[0m\u001b[0m\n\u001b[0m\u001b[0;32m    402\u001b[0m \u001b[1;33m\u001b[0m\u001b[0m\n\u001b[0;32m    403\u001b[0m             \u001b[1;32mif\u001b[0m \u001b[0mhave_dicts\u001b[0m\u001b[1;33m:\u001b[0m\u001b[1;33m\u001b[0m\u001b[1;33m\u001b[0m\u001b[0m\n",
      "\u001b[1;31mValueError\u001b[0m: arrays must all be same length"
     ]
    }
   ],
   "source": [
    "data = salva_dados(df.link_perfil[0], 3, file)"
   ]
  },
  {
   "cell_type": "code",
   "execution_count": 37,
   "id": "b4d45677-16fd-4e9e-ab0c-bff6578c1d1e",
   "metadata": {},
   "outputs": [
    {
     "data": {
      "text/plain": [
       "'Estagiário de Engenharia de Software'"
      ]
     },
     "execution_count": 37,
     "metadata": {},
     "output_type": "execute_result"
    }
   ],
   "source": [
    "soup.find('section',{\"id\":\"experience-section\"}).h3.get_text()"
   ]
  },
  {
   "cell_type": "code",
   "execution_count": 58,
   "id": "25fdb027-6868-444a-a06d-2c02a751e8bd",
   "metadata": {},
   "outputs": [],
   "source": [
    "obj = {'col1': [1], 'col2': [3]}"
   ]
  },
  {
   "cell_type": "code",
   "execution_count": 59,
   "id": "a7367941-f271-490e-b303-664e825bf061",
   "metadata": {},
   "outputs": [],
   "source": [
    "dataframe = pd.DataFrame(obj)"
   ]
  },
  {
   "cell_type": "code",
   "execution_count": 60,
   "id": "b326e89c-d432-4c78-ac14-23449e329ecc",
   "metadata": {},
   "outputs": [
    {
     "data": {
      "text/html": [
       "<div>\n",
       "<style scoped>\n",
       "    .dataframe tbody tr th:only-of-type {\n",
       "        vertical-align: middle;\n",
       "    }\n",
       "\n",
       "    .dataframe tbody tr th {\n",
       "        vertical-align: top;\n",
       "    }\n",
       "\n",
       "    .dataframe thead th {\n",
       "        text-align: right;\n",
       "    }\n",
       "</style>\n",
       "<table border=\"1\" class=\"dataframe\">\n",
       "  <thead>\n",
       "    <tr style=\"text-align: right;\">\n",
       "      <th></th>\n",
       "      <th>col1</th>\n",
       "      <th>col2</th>\n",
       "    </tr>\n",
       "  </thead>\n",
       "  <tbody>\n",
       "    <tr>\n",
       "      <th>0</th>\n",
       "      <td>1</td>\n",
       "      <td>3</td>\n",
       "    </tr>\n",
       "  </tbody>\n",
       "</table>\n",
       "</div>"
      ],
      "text/plain": [
       "   col1  col2\n",
       "0     1     3"
      ]
     },
     "execution_count": 60,
     "metadata": {},
     "output_type": "execute_result"
    }
   ],
   "source": [
    "dataframe"
   ]
  },
  {
   "cell_type": "code",
   "execution_count": null,
   "id": "f5ff92b3-ca80-4e8f-8f28-d79b862108d1",
   "metadata": {},
   "outputs": [],
   "source": []
  }
 ],
 "metadata": {
  "kernelspec": {
   "display_name": "Python 3",
   "language": "python",
   "name": "python3"
  },
  "language_info": {
   "codemirror_mode": {
    "name": "ipython",
    "version": 3
   },
   "file_extension": ".py",
   "mimetype": "text/x-python",
   "name": "python",
   "nbconvert_exporter": "python",
   "pygments_lexer": "ipython3",
   "version": "3.7.10"
  }
 },
 "nbformat": 4,
 "nbformat_minor": 5
}
